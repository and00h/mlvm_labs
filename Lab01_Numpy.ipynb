{
  "nbformat": 4,
  "nbformat_minor": 0,
  "metadata": {
    "colab": {
      "provenance": [],
      "collapsed_sections": [],
      "include_colab_link": true
    },
    "kernelspec": {
      "name": "python3",
      "display_name": "Python 3"
    }
  },
  "cells": [
    {
      "cell_type": "markdown",
      "metadata": {
        "id": "view-in-github",
        "colab_type": "text"
      },
      "source": [
        "<a href=\"https://colab.research.google.com/github/and00h/mlvm_labs/blob/main/Lab01_Numpy.ipynb\" target=\"_parent\"><img src=\"https://colab.research.google.com/assets/colab-badge.svg\" alt=\"Open In Colab\"/></a>"
      ]
    },
    {
      "cell_type": "code",
      "metadata": {
        "id": "NNqvKLPtgiVh"
      },
      "source": [
        "import numpy as np\n",
        "print(np.__version__)"
      ],
      "execution_count": null,
      "outputs": []
    },
    {
      "cell_type": "markdown",
      "metadata": {
        "id": "CD5WxKAheGux"
      },
      "source": [
        "Numpy provides many functions to **create** arrays\n"
      ]
    },
    {
      "cell_type": "code",
      "metadata": {
        "id": "qIjpmiLyeN2r"
      },
      "source": [
        "a = np.zeros((2,2))   # Create an array of all zeros\n",
        "print(a)              # Prints \"[[ 0.  0.]\n",
        "                      #          [ 0.  0.]]\"\n",
        "\n",
        "b = np.ones((1,2))    # Create an array of all ones\n",
        "print(b)              # Prints \"[[ 1.  1.]]\"\n",
        "\n",
        "c = np.full((2,2), 7)  # Create a constant array\n",
        "print(c)               # Prints \"[[ 7.  7.]\n",
        "                       #          [ 7.  7.]]\"\n",
        "\n",
        "d = np.eye(2)         # Create a 2x2 identity matrix\n",
        "print(d)              # Prints \"[[ 1.  0.]\n",
        "                      #          [ 0.  1.]]\"\n",
        "\n",
        "e = np.random.random((2,2))  # Create an array filled with random values\n",
        "print(e)                     "
      ],
      "execution_count": null,
      "outputs": []
    },
    {
      "cell_type": "markdown",
      "metadata": {
        "id": "_k1xE_86eU0V"
      },
      "source": [
        "\n",
        "**Slicing:** In addition to accessing list elements one at a time, Python provides concise syntax to access sublists; this is known as slicing.\n"
      ]
    },
    {
      "cell_type": "code",
      "metadata": {
        "id": "q4_WveyPec6S"
      },
      "source": [
        "nums = list(range(5))     # range is a built-in function that creates a list of integers\n",
        "nums = np.array(nums)     # convert python list to numpy array\n",
        "print(nums)               # Prints \"[0, 1, 2, 3, 4]\"\n",
        "print(nums[2:4])          # Get a slice from index 2 to 4 (exclusive); prints \"[2, 3]\"\n",
        "print(nums[2:])           # Get a slice from index 2 to the end; prints \"[2, 3, 4]\"\n",
        "print(nums[:2])           # Get a slice from the start to index 2 (exclusive); prints \"[0, 1]\"\n",
        "print(nums[:])            # Get a slice of the whole list; prints \"[0, 1, 2, 3, 4]\"\n",
        "print(nums[:-1])          # Slice indices can be negative; prints \"[0, 1, 2, 3]\"\n",
        "nums[2:4] = [8, 9]        # Create a new sub-array\n",
        "print(nums)  \n",
        "print(nums.shape) "
      ],
      "execution_count": null,
      "outputs": []
    },
    {
      "cell_type": "markdown",
      "metadata": {
        "id": "DNqN07rkd5KM"
      },
      "source": [
        "\n",
        "Let us see some examples of **Matrix** **multiplication**\n"
      ]
    },
    {
      "cell_type": "code",
      "metadata": {
        "id": "MXYMUVigdc7B"
      },
      "source": [
        "import time  # import module to calculate execution time\n"
      ],
      "execution_count": null,
      "outputs": []
    },
    {
      "cell_type": "code",
      "metadata": {
        "id": "NPqCCIc7PL4G"
      },
      "source": [
        "x = np.array([1, 0.01, 0.5, 0.78])\n",
        "w = np.array([1, 2, 3, -3])\n",
        "b = 0.5\n",
        "\n",
        "start_time = time.time()\n",
        "y = np.dot(w, x) + b  # linear regression\n",
        "end_time = time.time()\n",
        "print(y)\n",
        "print(y.shape)\n",
        "\n",
        "vec_time = end_time-start_time\n",
        "print(\"Execution time with vectorization {} seconds\".format(vec_time))"
      ],
      "execution_count": null,
      "outputs": []
    },
    {
      "cell_type": "markdown",
      "metadata": {
        "id": "7IynXQpzd4pP"
      },
      "source": [
        "The same result can be obtained with a less efficient for loop."
      ]
    },
    {
      "cell_type": "code",
      "metadata": {
        "id": "mlRc41u4d1Xz"
      },
      "source": [
        "start_time = time.time()\n",
        "x_n = x.shape[0]\n",
        "y = 0\n",
        "for i in range(x_n):\n",
        "   y += w[i]*x[i] + b\n",
        "end_time = time.time()\n",
        "\n",
        "print(y)\n",
        "print(y.shape)\n",
        "\n",
        "print(\"Execution time without vectorization {} seconds\".format(end_time-start_time))\n",
        "print(vec_time/(end_time-start_time))   # print the increase in execution time \n",
        "                                        # warning: for small vectors it varies a lot between runs!"
      ],
      "execution_count": null,
      "outputs": []
    },
    {
      "cell_type": "markdown",
      "metadata": {
        "id": "7lfoJd7QfFYY"
      },
      "source": [
        "The matmul function allow to multiply N-Dimensional arrays - the behaviour \n",
        "\n"
      ]
    },
    {
      "cell_type": "code",
      "metadata": {
        "id": "bb97wc8iUEvM"
      },
      "source": [
        "a = np.random.random_sample(size=(5,3))  # generate random matrix with 5 rows and 3 columns\n",
        "b = np.random.random_sample(size=(3,4))  # generate random matrix with 3 rows and 4 columns\n",
        "\n",
        "print(a)\n",
        "print(b)\n",
        "\n",
        "c = np.matmul(a,b)\n",
        "print(c)\n",
        "print(c.shape)     # prints the shape of the resulting matrix, e.g. (5,4)"
      ],
      "execution_count": null,
      "outputs": []
    },
    {
      "cell_type": "markdown",
      "metadata": {
        "id": "anDNZjvJd2Ou"
      },
      "source": [
        "\n",
        "What happens if the inner dimensions are not compatible?\n"
      ]
    },
    {
      "cell_type": "code",
      "metadata": {
        "id": "VErgI9nzfOvG"
      },
      "source": [
        "print(np.matmul(b, a))"
      ],
      "execution_count": null,
      "outputs": []
    },
    {
      "cell_type": "markdown",
      "metadata": {
        "id": "zUzs-FmjfdHJ"
      },
      "source": [
        "Let us see another example of how a vectorized implementation is more efficient!\n"
      ]
    },
    {
      "cell_type": "code",
      "metadata": {
        "id": "L3WRRwtQfP7j"
      },
      "source": [
        "a = np.random.random_sample((5000,))    # generate a large vector\n",
        "\n",
        "# vectorized calculation\n",
        "start_time = time.time()\n",
        "exp_a = np.exp(a)\n",
        "end_time = time.time()\n",
        "print(\"Execution time with vectorization {} seconds\".format(end_time-start_time))\n",
        "\n",
        "start_time = time.time()\n",
        "x_n = a.shape[0]\n",
        "exp_a = np.zeros(a.shape)\n",
        "for i in range(x_n):\n",
        "   exp_a[i] = np.exp(a[i])\n",
        "end_time = time.time()\n",
        "print(\"Execution time without vectorization {} seconds\".format(end_time-start_time))"
      ],
      "execution_count": null,
      "outputs": []
    },
    {
      "cell_type": "markdown",
      "metadata": {
        "id": "M_OZaEyI60wt"
      },
      "source": [
        "\n",
        "**Exercise 1**\n",
        "\n",
        "\n",
        "Given the amount of Carbs, Proteins, Fats in 100g of different foods, \n",
        "knowing that carbs and proteins provides 4 calories and fats 9 calories,\n",
        "calculate the % of calories from carbs, proteins and fats for each food\n"
      ]
    },
    {
      "cell_type": "code",
      "metadata": {
        "id": "G1CdeuBA7Bfm"
      },
      "source": [
        "grams = np.array([[ 27, 5.8, 41.5, 18.0 ], [ 0.7, 2.5, 8, 4 ],[ 0.2, 0.3, 1.2, 29.5 ]])\n",
        "grams"
      ],
      "execution_count": null,
      "outputs": []
    },
    {
      "cell_type": "code",
      "metadata": {
        "id": "zXCiHU5B7a9l",
        "colab": {
          "base_uri": "https://localhost:8080/"
        },
        "outputId": "245c08fd-a6ab-4227-fe66-187a35022bcc"
      },
      "source": [
        "import numpy as np\n",
        "\n",
        "grams = np.array([[ 27, 5.8, 41.5, 18.0 ], [ 0.7, 2.5, 8, 4 ],[ 0.2, 0.3, 1.2, 29.5 ]])\n",
        "calories = np.array([[4] * 4, [4] * 4, [9] * 4])\n",
        "calories_part = grams * calories\n",
        "\n",
        "calories_vec = calories[:, 0:1]\n",
        "calories_tot = np.transpose(np.matmul(np.transpose(grams), calories_vec))\n",
        "\n",
        "calories_tot_matr = np.array([*calories_tot] * 3)\n",
        "(calories_part / calories_tot_matr) * 100\n",
        "\n"
      ],
      "execution_count": null,
      "outputs": [
        {
          "output_type": "execute_result",
          "data": {
            "text/plain": [
              "array([[95.91474245, 64.62395543, 79.50191571, 20.36775106],\n",
              "       [ 2.48667851, 27.8551532 , 15.3256705 ,  4.5261669 ],\n",
              "       [ 1.59857904,  7.52089136,  5.17241379, 75.10608204]])"
            ]
          },
          "metadata": {},
          "execution_count": 26
        }
      ]
    },
    {
      "cell_type": "markdown",
      "metadata": {
        "id": "gnIsh0Wp7dhs"
      },
      "source": [
        "**Exercise 2**\n",
        "\n",
        "Given two 1-D arrays **x** (real values) and **y** (discreet labels), and a constant parameter *m*, implement the following formula:"
      ]
    },
    {
      "cell_type": "markdown",
      "metadata": {
        "id": "OZRiRIL07glM"
      },
      "source": [
        "$z_i = \\bigg \\{ \\begin{matrix} \\parallel x_i \\parallel ^ 2 \\text{  if  } y_i =1 \\\\ \\parallel m - x_i \\parallel ^ 2 \\text{  if  } y_i = 0 \\end{matrix}$"
      ]
    },
    {
      "cell_type": "code",
      "metadata": {
        "id": "JhFDaphO7oAz"
      },
      "source": [
        "x = np.array([0.08444168, 0.5717077,  0.86764178, 0.2427889,  0.44898618, 0.23330771,\n",
        " 0.14876752, 0.41267104, 0.38951113, 0.60130308])\n",
        "print(x)\n",
        "y = np.array([0, 0, 1, 1, 0, 0, 0, 1, 1, 0])\n",
        "print(y)\n"
      ],
      "execution_count": null,
      "outputs": []
    },
    {
      "cell_type": "code",
      "metadata": {
        "id": "tcfCbuwK7_yC",
        "colab": {
          "base_uri": "https://localhost:8080/"
        },
        "outputId": "7b466aca-ba2a-4cef-8699-72a935d2ce8e"
      },
      "source": [
        "x = np.array([0.08444168, 0.5717077,  0.86764178, 0.2427889,  0.44898618, 0.23330771,\n",
        " 0.14876752, 0.41267104, 0.38951113, 0.60130308])\n",
        "print(x)\n",
        "y = np.array([0, 0, 1, 1, 0, 0, 0, 1, 1, 0])\n",
        "print(y)\n",
        "m = 0.5\n",
        "print(m)\n",
        "\n",
        "y2 = (y - 1) + y\n",
        "m_vec = ((y + 1) % 2) * m\n",
        "(m_vec + (y2 * x)) ** 2\n"
      ],
      "execution_count": null,
      "outputs": [
        {
          "output_type": "stream",
          "name": "stdout",
          "text": [
            "[0.08444168 0.5717077  0.86764178 0.2427889  0.44898618 0.23330771\n",
            " 0.14876752 0.41267104 0.38951113 0.60130308]\n",
            "[0 0 1 1 0 0 0 1 1 0]\n",
            "0.5\n",
            "[-1 -1  1  1 -1 -1 -1  1  1 -1]\n",
            "[0.5 0.5 0.  0.  0.5 0.5 0.5 0.  0.  0.5]\n"
          ]
        },
        {
          "output_type": "execute_result",
          "data": {
            "text/plain": [
              "array([0.17268872, 0.00514199, 0.75280226, 0.05894645, 0.00260241,\n",
              "       0.07112478, 0.12336426, 0.17029739, 0.15171892, 0.01026231])"
            ]
          },
          "metadata": {},
          "execution_count": 33
        }
      ]
    },
    {
      "cell_type": "markdown",
      "metadata": {
        "id": "aZLjiPy57m0B"
      },
      "source": [
        "**Exercise 3**\n",
        "\n",
        "Given a matrix x of size M by N, where M is the number of samples and N is the number of features, write a vectorized expression to perform min-max scaling:\n",
        "𝑥′=  (𝑥  − min⁡(𝑥))/(max⁡(𝑥)−min⁡(𝑥))\n",
        "\n"
      ]
    },
    {
      "cell_type": "code",
      "metadata": {
        "id": "8rVVP1DziTRt",
        "colab": {
          "base_uri": "https://localhost:8080/"
        },
        "outputId": "ed5a16e9-c7c9-4d73-fc62-b05ba3cb5504"
      },
      "source": [
        "import numpy as np\n",
        "import numpy.matlib\n",
        "\n",
        "np.random.seed(123)\n",
        "\n",
        "x = np.matlib.randn(4, 4)\n",
        "print(x)\n",
        "min_matr = np.ones(x.shape) * x.min()\n",
        "print(min_matr)\n",
        "max_matr = np.ones(x.shape) * x.max()\n",
        "print(max_matr)\n",
        "minmax_matr = max_matr - min_matr\n",
        "\n",
        "(x - min_matr) / minmax_matr"
      ],
      "execution_count": null,
      "outputs": [
        {
          "output_type": "stream",
          "name": "stdout",
          "text": [
            "[[-1.0856306   0.99734545  0.2829785  -1.50629471]\n",
            " [-0.57860025  1.65143654 -2.42667924 -0.42891263]\n",
            " [ 1.26593626 -0.8667404  -0.67888615 -0.09470897]\n",
            " [ 1.49138963 -0.638902   -0.44398196 -0.43435128]]\n",
            "[[-2.42667924 -2.42667924 -2.42667924 -2.42667924]\n",
            " [-2.42667924 -2.42667924 -2.42667924 -2.42667924]\n",
            " [-2.42667924 -2.42667924 -2.42667924 -2.42667924]\n",
            " [-2.42667924 -2.42667924 -2.42667924 -2.42667924]]\n",
            "[[1.65143654 1.65143654 1.65143654 1.65143654]\n",
            " [1.65143654 1.65143654 1.65143654 1.65143654]\n",
            " [1.65143654 1.65143654 1.65143654 1.65143654]\n",
            " [1.65143654 1.65143654 1.65143654 1.65143654]]\n"
          ]
        },
        {
          "output_type": "execute_result",
          "data": {
            "text/plain": [
              "matrix([[0.32884026, 0.83960948, 0.66443865, 0.22568867],\n",
              "        [0.45316982, 1.        , 0.        , 0.48987491],\n",
              "        [0.90547098, 0.3825146 , 0.42857859, 0.57182542],\n",
              "        [0.96075469, 0.43838315, 0.48617974, 0.4885413 ]])"
            ]
          },
          "metadata": {},
          "execution_count": 35
        }
      ]
    },
    {
      "cell_type": "markdown",
      "metadata": {
        "id": "EImv8YI_h_ZJ"
      },
      "source": [
        "**Exercise 4**\n",
        "\n",
        "\n",
        "Given a 1D array, calculate the average of each consecutive triplet\n"
      ]
    },
    {
      "cell_type": "code",
      "metadata": {
        "id": "JFDqS71nigjm",
        "colab": {
          "base_uri": "https://localhost:8080/"
        },
        "outputId": "f857c451-9ce1-40d0-9cb3-d6f11291413d"
      },
      "source": [
        "x = np.array([1, 3, 5, 10, 15, 12, 23, 5, 6])\n",
        "\n",
        "sums = np.convolve(x, np.ones(3), 'valid')\n",
        "sums / 3"
      ],
      "execution_count": null,
      "outputs": [
        {
          "output_type": "execute_result",
          "data": {
            "text/plain": [
              "array([ 3.        ,  6.        , 10.        , 12.33333333, 16.66666667,\n",
              "       13.33333333, 11.33333333])"
            ]
          },
          "metadata": {},
          "execution_count": 40
        }
      ]
    }
  ]
}